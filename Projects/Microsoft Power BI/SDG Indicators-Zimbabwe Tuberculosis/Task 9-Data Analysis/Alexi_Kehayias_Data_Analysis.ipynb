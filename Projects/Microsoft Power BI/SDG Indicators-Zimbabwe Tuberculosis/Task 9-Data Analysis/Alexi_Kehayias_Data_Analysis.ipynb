{
 "cells": [
  {
   "cell_type": "markdown",
   "metadata": {},
   "source": [
    "This is task 9 of data analysis using Python done by Alexi Kehayias\n",
    "\n",
    "For reference, the task required to be done for Task 9 are below: \n",
    "1.Load the dataset.\n",
    "2.Select a column you would like to analyze.\n",
    "3.Calculate the mean, standard deviation, maximum, and minimum of the column you have selected."
   ]
  },
  {
   "cell_type": "markdown",
   "metadata": {},
   "source": [
    "1. Load the Dataset(And Printing it for reference):"
   ]
  },
  {
   "cell_type": "code",
   "execution_count": 7,
   "metadata": {},
   "outputs": [
    {
     "name": "stdout",
     "output_type": "stream",
     "text": [
      "Urban access (number of people);Entity;Year\n",
      "\n",
      "3915913;Zimbabwe;2000\n",
      "\n",
      "3977857;Zimbabwe;2001\n",
      "\n",
      "4036928;Zimbabwe;2002\n",
      "\n",
      "4034455;Zimbabwe;2003\n",
      "\n",
      "4025928;Zimbabwe;2004\n",
      "\n",
      "4023742;Zimbabwe;2005\n",
      "\n",
      "4028646;Zimbabwe;2006\n",
      "\n",
      "4040518;Zimbabwe;2007\n",
      "\n",
      "4059643;Zimbabwe;2008\n",
      "\n",
      "4086210;Zimbabwe;2009\n",
      "\n",
      "4119836;Zimbabwe;2010\n",
      "\n",
      "4161325;Zimbabwe;2011\n",
      "\n",
      "4209905;Zimbabwe;2012\n",
      "\n",
      "4262445;Zimbabwe;2013\n",
      "\n",
      "4318507;Zimbabwe;2014\n",
      "\n",
      "4375418;Zimbabwe;2015\n",
      "\n",
      "4432068;Zimbabwe;2016\n",
      "\n",
      "4489561;Zimbabwe;2017\n",
      "\n",
      "4549936;Zimbabwe;2018\n",
      "\n",
      "4615771;Zimbabwe;2019\n",
      "\n",
      "4689537;Zimbabwe;2020\n",
      "\n"
     ]
    }
   ],
   "source": [
    "filehandle = open('Basic Access to Sanitation-Urban.csv')\n",
    "for line in filehandle:\n",
    "    print(line)\n",
    "filehandle.close()"
   ]
  },
  {
   "cell_type": "markdown",
   "metadata": {},
   "source": [
    "2. Selecting the column to analyse:"
   ]
  },
  {
   "cell_type": "code",
   "execution_count": 15,
   "metadata": {},
   "outputs": [
    {
     "name": "stdout",
     "output_type": "stream",
     "text": [
      "Maximum: 4689537\n",
      "Minimum: 3915913\n",
      "Mean: 4212102.333333333\n",
      "Standard Deviation: 230129.4078170657\n",
      "Mode:  3915913\n",
      "Median:  4119836\n"
     ]
    }
   ],
   "source": [
    "import statistics\n",
    "\n",
    "# Initialize lists to store the values for Zimbabwe.\n",
    "zimbabwe_values = []\n",
    "\n",
    "# Open the CSV file for reading.\n",
    "file = open('Basic Access to Sanitation-Urban.csv', 'r')\n",
    "\n",
    "# Skip the header line.\n",
    "next(file)\n",
    "\n",
    "# Iterate through the lines in the file.\n",
    "for line in file:\n",
    "    # Split the line by semicolon to extract the value of interest.\n",
    "    values = line.strip().split(';')\n",
    "    \n",
    "    # Check if the country is \"Zimbabwe\".\n",
    "    if values[1] == 'Zimbabwe':\n",
    "        # Extract the value (number of people) and convert to int.\n",
    "        value_str = values[0]\n",
    "        value = int(value_str)\n",
    "        \n",
    "        # Add the value to the list.\n",
    "        zimbabwe_values.append(value)\n",
    "\n",
    "# Calculate the mean using statistics.mean.\n",
    "mean = statistics.mean(zimbabwe_values)\n",
    "\n",
    "# Calculate the standard deviation using statistics.stdev.\n",
    "standard_deviation = statistics.stdev(zimbabwe_values)\n",
    "\n",
    "# Calculate the maximum and minimum using built-in functions.\n",
    "maximum = max(zimbabwe_values)\n",
    "minimum = min(zimbabwe_values)\n",
    "\n",
    "print(\"Maximum:\" , maximum)\n",
    "print(\"Minimum:\" , minimum)\n",
    "print(\"Mean:\" , mean)\n",
    "print(\"Standard Deviation:\" , standard_deviation)\n",
    "\n",
    "#For addition I added the median and mode as well :D\n",
    "# Calculate the median using statistics.median.\n",
    "median = statistics.median(zimbabwe_values)\n",
    "\n",
    "# Calculate the mode using statistics.mode (if it exists).\n",
    "try:\n",
    "    mode = statistics.mode(zimbabwe_values)\n",
    "except statistics.StatisticsError:\n",
    "    mode = \"No unique mode found\"\n",
    "print(\"Mode: \", mode)\n",
    "print(\"Median: \", median)\n",
    "\n",
    "# Close the file.\n",
    "file.close()"
   ]
  }
 ],
 "metadata": {
  "kernelspec": {
   "display_name": "block_a",
   "language": "python",
   "name": "python3"
  },
  "language_info": {
   "codemirror_mode": {
    "name": "ipython",
    "version": 3
   },
   "file_extension": ".py",
   "mimetype": "text/x-python",
   "name": "python",
   "nbconvert_exporter": "python",
   "pygments_lexer": "ipython3",
   "version": "3.8.16"
  },
  "orig_nbformat": 4
 },
 "nbformat": 4,
 "nbformat_minor": 2
}
